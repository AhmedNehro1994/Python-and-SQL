{
 "cells": [
  {
   "cell_type": "code",
   "execution_count": 150,
   "id": "c28e9c85",
   "metadata": {},
   "outputs": [],
   "source": [
    "import sqlite3\n",
    "db =sqlite3.connect('base20.db')\n",
    "cr= db.cursor()\n",
    "db.commit()"
   ]
  },
  {
   "cell_type": "code",
   "execution_count": 90,
   "id": "312aa464",
   "metadata": {},
   "outputs": [],
   "source": [
    "ques1= cr.execute(\"SELECT bookname from book1000 WHERE bookname like '%Mr%' and rate >= 3\")\n",
    "#ques1.fetchall()"
   ]
  },
  {
   "cell_type": "code",
   "execution_count": null,
   "id": "e41a6a22",
   "metadata": {},
   "outputs": [],
   "source": []
  },
  {
   "cell_type": "code",
   "execution_count": 91,
   "id": "c536f1a8",
   "metadata": {},
   "outputs": [
    {
     "data": {
      "text/plain": [
       "<function Cursor.fetchall>"
      ]
     },
     "execution_count": 91,
     "metadata": {},
     "output_type": "execute_result"
    }
   ],
   "source": [
    "ques2= cr.execute(\"SELECT bookname from book1000 WHERE price >20 and rate >= 3\")\n",
    "ques2.fetchall\n"
   ]
  },
  {
   "cell_type": "code",
   "execution_count": 92,
   "id": "9a8389ed",
   "metadata": {},
   "outputs": [],
   "source": [
    "ques3= cr.execute(\"SELECT bookname,rate from book1000 WHERE rate != 3\")\n",
    "#ques3.fetchall()\n"
   ]
  },
  {
   "cell_type": "code",
   "execution_count": 93,
   "id": "2186f016",
   "metadata": {},
   "outputs": [],
   "source": [
    "ques4= cr.execute(\"SELECT bookname from book1000 WHERE (rate != 5  and rate !=2) and (price BETWEEN 10 and 50 )\")\n",
    "#ques4.fetchall()\n",
    "#len(ques4.fetchall())\n"
   ]
  },
  {
   "cell_type": "code",
   "execution_count": 94,
   "id": "4bf230e5",
   "metadata": {},
   "outputs": [],
   "source": [
    "ques5= cr.execute(\"SELECT bookname , price ,rate FROM book1000 order by price DESC LIMIT 5 \")\n",
    "#ques5.fetchall()"
   ]
  },
  {
   "cell_type": "code",
   "execution_count": 95,
   "id": "ecadff85",
   "metadata": {},
   "outputs": [],
   "source": [
    "ques6= cr.execute(\"SELECT bookname FROM book1000 order by rate desc , price ASC limit 30\")\n",
    "#ques6.fetchall()[20:]"
   ]
  },
  {
   "cell_type": "code",
   "execution_count": 149,
   "id": "5d084476",
   "metadata": {},
   "outputs": [
    {
     "data": {
      "text/plain": [
       "<sqlite3.Cursor at 0x25d1c50bea0>"
      ]
     },
     "execution_count": 149,
     "metadata": {},
     "output_type": "execute_result"
    }
   ],
   "source": [
    "ques7\n",
    "#cr.execute(\"insert into categoriess (category) VALUES('Suspens')\")\n",
    "#cr.execute(\"insert into book1000 (bookid,bookname,price,rate) VALUES('1001','AroundEarth','45','2')\")\n",
    "#cr.execute(\"insert into book1000 (bookid,bookname,price,rate) VALUES (1002,'worldend',45.5,3)\")\n",
    "#cr.execute(\"insert into book1000 (bookid,bookname,price,rate) VALUES (1003,'America',44,4)\")\n",
    "#cr.execute(\"insert into book1000 (bookid,bookname,price,rate) VALUES (1004,'catchme',49.5,3)\")\n",
    "#cr.execute(\"insert into book1000 (bookid,bookname,price,rate) VALUES (1005,'harstreet',40,1)\")\n",
    "#db.commit()"
   ]
  },
  {
   "cell_type": "code",
   "execution_count": null,
   "id": "c8219645",
   "metadata": {},
   "outputs": [],
   "source": [
    "ques8= cr.execute(\"UPDATE book1000 SET rate = '3' WHERE price <20\")\n"
   ]
  },
  {
   "cell_type": "code",
   "execution_count": null,
   "id": "e61837fe",
   "metadata": {},
   "outputs": [],
   "source": [
    "ques9 = cr.execute(\"delete from book1000 where  price > 50 and rate <= 2\")\n",
    "#ques9"
   ]
  },
  {
   "cell_type": "code",
   "execution_count": null,
   "id": "d07db901",
   "metadata": {},
   "outputs": [],
   "source": [
    "ques10 = cr.execute(\"SELECT count(bookname),bookname FROM book1000 where bookname like '%Secret%' and price BETWEEN 10 and 25\")\n",
    "#ques10.fetchall()"
   ]
  },
  {
   "cell_type": "code",
   "execution_count": 135,
   "id": "8429de9c",
   "metadata": {},
   "outputs": [],
   "source": [
    "ques11 = cr.execute(\"SELECT max(price)as price ,bookname FROM book1000 where rate = 5 \")\n",
    "#ques11.fetchall()\n"
   ]
  },
  {
   "cell_type": "code",
   "execution_count": 136,
   "id": "544e3283",
   "metadata": {},
   "outputs": [],
   "source": [
    "ques12 = cr.execute(\"SELECT min(price) as price ,bookname FROM book1000 where rate = 5 \")\n",
    "#ques12.fetchall()"
   ]
  },
  {
   "cell_type": "code",
   "execution_count": 137,
   "id": "30ac3120",
   "metadata": {},
   "outputs": [],
   "source": [
    "ques13 = cr.execute(\"SELECT avg(price) as averag  FROM book1000 where rate = 5\")\n",
    "#ques13.fetchall()"
   ]
  },
  {
   "cell_type": "code",
   "execution_count": 138,
   "id": "af3a2d2d",
   "metadata": {},
   "outputs": [],
   "source": [
    "ques14 = cr.execute(\"SELECT sum(price) FROM book1000 where rate = 2 and price BETWEEN 10 and 40\")\n",
    "#ques14.fetchall()"
   ]
  },
  {
   "cell_type": "code",
   "execution_count": 139,
   "id": "b78c53b1",
   "metadata": {},
   "outputs": [],
   "source": [
    "ques15 = cr.execute(\"select book1000.bookname, book1000.price ,book1000.rate ,categoriess.category from book1000 INNER JOIN categoriess on categoriess.bookid  = book1000.bookid \")\n",
    "#ques15.fetchall()"
   ]
  },
  {
   "cell_type": "code",
   "execution_count": 140,
   "id": "38b2932e",
   "metadata": {},
   "outputs": [],
   "source": [
    "ques16 = cr.execute(\"SELECT sum(price) FROM book1000 where rate = 2 and price BETWEEN 10 and 40\")\n",
    "#ques16.fetchall()"
   ]
  },
  {
   "cell_type": "code",
   "execution_count": 141,
   "id": "f55bf495",
   "metadata": {},
   "outputs": [],
   "source": [
    "ques17a1 = cr.execute(\"SELECT count(price) from book1000 WHERE rate = 1 and price BETWEEN 20 and 30\")\n",
    "#ques17a1.fetchall()"
   ]
  },
  {
   "cell_type": "code",
   "execution_count": 142,
   "id": "e8447822",
   "metadata": {},
   "outputs": [],
   "source": [
    "ques17a2 = cr.execute(\"SELECT count(price) from book1000 WHERE rate = 2 and price BETWEEN 20 and 30\")\n",
    "#ques17a2.fetchall()"
   ]
  },
  {
   "cell_type": "code",
   "execution_count": 143,
   "id": "3a1525e0",
   "metadata": {},
   "outputs": [],
   "source": [
    "ques17a3 = cr.execute(\"SELECT count(price) from book1000 WHERE rate = 3 and price BETWEEN 20 and 30\")\n",
    "#ques17a3.fetchall() "
   ]
  },
  {
   "cell_type": "code",
   "execution_count": 144,
   "id": "127be781",
   "metadata": {},
   "outputs": [],
   "source": [
    "ques17a4 = cr.execute(\"SELECT count(price) from book1000 WHERE rate = 4 and price BETWEEN 20 and 30\")\n",
    "#ques17a4.fetchall()"
   ]
  },
  {
   "cell_type": "code",
   "execution_count": 148,
   "id": "6d948880",
   "metadata": {},
   "outputs": [],
   "source": [
    "ques17a5 = cr.execute(\"SELECT count(price) from book1000 WHERE rate = 5 and price BETWEEN 20 and 30\")\n",
    "#ques17a5.fetchall()"
   ]
  },
  {
   "cell_type": "code",
   "execution_count": null,
   "id": "961bfcbb",
   "metadata": {},
   "outputs": [],
   "source": [
    "ques18 = cr.execute(\"SELECT catname from cat\")\n",
    "g = ques18.fetchall()\n",
    "a = []\n",
    "for i in g:\n",
    "    ques18.fetchall()\n",
    "    ques17c5 = cr.execute(f\"SELECT count(category) from categoriess WHERE category ='{i[0]}' \")\n",
    "    print(i[0],' has ',ques17c5.fetchall()[0][0],' books')\n",
    "#ques18"
   ]
  },
  {
   "cell_type": "code",
   "execution_count": 260,
   "id": "0f70702f",
   "metadata": {},
   "outputs": [],
   "source": [
    "ques19 = cr.execute(\"SELECT bookname from book1000 INNER JOIN categoriess on categoriess.bookid=book1000.bookid WHERE category = 'Music'\")\n",
    "#ques19.fetchall()"
   ]
  },
  {
   "cell_type": "code",
   "execution_count": null,
   "id": "f08ffe90",
   "metadata": {},
   "outputs": [],
   "source": []
  },
  {
   "cell_type": "code",
   "execution_count": null,
   "id": "160ff388",
   "metadata": {},
   "outputs": [],
   "source": []
  },
  {
   "cell_type": "code",
   "execution_count": null,
   "id": "7f90055a",
   "metadata": {},
   "outputs": [],
   "source": []
  },
  {
   "cell_type": "code",
   "execution_count": null,
   "id": "c99683c2",
   "metadata": {},
   "outputs": [],
   "source": []
  },
  {
   "cell_type": "code",
   "execution_count": null,
   "id": "a2f2032e",
   "metadata": {},
   "outputs": [],
   "source": []
  },
  {
   "cell_type": "code",
   "execution_count": null,
   "id": "65d55698",
   "metadata": {},
   "outputs": [],
   "source": []
  }
 ],
 "metadata": {
  "kernelspec": {
   "display_name": "Python 3 (ipykernel)",
   "language": "python",
   "name": "python3"
  },
  "language_info": {
   "codemirror_mode": {
    "name": "ipython",
    "version": 3
   },
   "file_extension": ".py",
   "mimetype": "text/x-python",
   "name": "python",
   "nbconvert_exporter": "python",
   "pygments_lexer": "ipython3",
   "version": "3.9.7"
  }
 },
 "nbformat": 4,
 "nbformat_minor": 5
}
